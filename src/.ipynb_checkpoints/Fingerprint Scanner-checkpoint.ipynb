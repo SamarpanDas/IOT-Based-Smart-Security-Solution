{
 "cells": [
  {
   "cell_type": "code",
   "execution_count": null,
   "id": "73c3bfee",
   "metadata": {},
   "outputs": [],
   "source": [
    "pip install pyfingerprint\n"
   ]
  },
  {
   "cell_type": "code",
   "execution_count": null,
   "id": "558a6571",
   "metadata": {},
   "outputs": [],
   "source": [
    "from pyfingerprint.pyfingerprint import PyFingerprint\n",
    "\n",
    "try:\n",
    "    f = PyFingerprint('/dev/ttyUSB0', 57600, 0xFFFFFFFF, 0x00000000)\n",
    "\n",
    "    if ( f.verifyPassword() == False ):\n",
    "        raise ValueError('The given fingerprint sensor password is wrong!')\n",
    "\n",
    "except Exception as e:\n",
    "    print('The fingerprint sensor could not be initialized!')\n",
    "    print('Exception message: ' + str(e))\n",
    "    exit(1)\n",
    "\n",
    "try:\n",
    "    print('Waiting for finger...')\n",
    "\n",
    "    while ( f.readImage() == False ):\n",
    "        pass\n",
    "\n",
    "    f.convertImage(0x01)\n",
    "\n",
    "    result = f.searchTemplate()\n",
    "    positionNumber = result[0]\n",
    "\n",
    "    if ( positionNumber >= 0 ):\n",
    "        print('Template already exists at position #' + str(positionNumber))\n",
    "    else:\n",
    "        print('Finger was not found in the database.')\n",
    "\n",
    "except Exception as e:\n",
    "    print('Operation failed!')\n",
    "    print('Exception message: ' + str(e))\n",
    "    exit(1)\n"
   ]
  }
 ],
 "metadata": {
  "kernelspec": {
   "display_name": "Python 3",
   "language": "python",
   "name": "python3"
  },
  "language_info": {
   "codemirror_mode": {
    "name": "ipython",
    "version": 3
   },
   "file_extension": ".py",
   "mimetype": "text/x-python",
   "name": "python",
   "nbconvert_exporter": "python",
   "pygments_lexer": "ipython3",
   "version": "3.8.8"
  }
 },
 "nbformat": 4,
 "nbformat_minor": 5
}
